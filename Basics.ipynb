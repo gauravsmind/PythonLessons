{
  "nbformat": 4,
  "nbformat_minor": 0,
  "metadata": {
    "colab": {
      "name": "Ex1.ipynb",
      "version": "0.3.2",
      "provenance": [],
      "collapsed_sections": [],
      "include_colab_link": true
    },
    "kernelspec": {
      "name": "python3",
      "display_name": "Python 3"
    }
  },
  "cells": [
    {
      "cell_type": "markdown",
      "metadata": {
        "id": "view-in-github",
        "colab_type": "text"
      },
      "source": [
        "<a href=\"https://colab.research.google.com/github/gauravsmind/PythonLessons/blob/master/Basics.ipynb\" target=\"_parent\"><img src=\"https://colab.research.google.com/assets/colab-badge.svg\" alt=\"Open In Colab\"/></a>"
      ]
    },
    {
      "cell_type": "markdown",
      "metadata": {
        "id": "nHYpD9ph1CAs",
        "colab_type": "text"
      },
      "source": [
        "#Example of print commands "
      ]
    },
    {
      "cell_type": "code",
      "metadata": {
        "id": "boovzBGNjS5V",
        "colab_type": "code",
        "outputId": "81bfb0bb-1cb0-48a8-b16a-bca9118c0a66",
        "colab": {
          "base_uri": "https://localhost:8080/",
          "height": 119
        }
      },
      "source": [
        "print(\"Hello World!\")\n",
        "print(\"Hello Again\")\n",
        "print (\"I like typing this.\")\n",
        "print(\"This is fun.\")\n",
        "print(\"Yay! Printing.\")\n",
        "print(\"I'd rather you 'not'.\")\n",
        "#print('I \"said\" so not touch this.')"
      ],
      "execution_count": 1,
      "outputs": [
        {
          "output_type": "stream",
          "text": [
            "Hello World!\n",
            "Hello Again\n",
            "I like typing this.\n",
            "This is fun.\n",
            "Yay! Printing.\n",
            "I'd rather you 'not'.\n"
          ],
          "name": "stdout"
        }
      ]
    },
    {
      "cell_type": "code",
      "metadata": {
        "id": "lHjIgx8pxazW",
        "colab_type": "code",
        "colab": {
          "base_uri": "https://localhost:8080/",
          "height": 51
        },
        "outputId": "6011d2cb-2405-44af-c223-e60be5fbdb7b"
      },
      "source": [
        "# A comment, like this so that you can read later.\n",
        "# Anything after the # is ignored by python.\n",
        "print (\"I could have coded like this.\") # and the comment after this is ignored.\n",
        "\n",
        "# you can also use a comment to \"disable\" or comment out code:\n",
        "\n",
        "print(\"This will run.\")"
      ],
      "execution_count": 2,
      "outputs": [
        {
          "output_type": "stream",
          "text": [
            "I could have coded like this.\n",
            "This will run.\n"
          ],
          "name": "stdout"
        }
      ]
    },
    {
      "cell_type": "markdown",
      "metadata": {
        "id": "g70kI8zAxN8a",
        "colab_type": "text"
      },
      "source": [
        "Example 2"
      ]
    }
  ]
}