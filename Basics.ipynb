{
  "nbformat": 4,
  "nbformat_minor": 0,
  "metadata": {
    "colab": {
      "name": "Ex1.ipynb",
      "version": "0.3.2",
      "provenance": [],
      "collapsed_sections": [],
      "include_colab_link": true
    },
    "kernelspec": {
      "name": "python3",
      "display_name": "Python 3"
    }
  },
  "cells": [
    {
      "cell_type": "markdown",
      "metadata": {
        "id": "view-in-github",
        "colab_type": "text"
      },
      "source": [
        "<a href=\"https://colab.research.google.com/github/gauravsmind/PythonLessons/blob/master/Basics.ipynb\" target=\"_parent\"><img src=\"https://colab.research.google.com/assets/colab-badge.svg\" alt=\"Open In Colab\"/></a>"
      ]
    },
    {
      "cell_type": "markdown",
      "metadata": {
        "id": "nHYpD9ph1CAs",
        "colab_type": "text"
      },
      "source": [
        "#Example of print commands "
      ]
    },
    {
      "cell_type": "code",
      "metadata": {
        "id": "boovzBGNjS5V",
        "colab_type": "code",
        "outputId": "81bfb0bb-1cb0-48a8-b16a-bca9118c0a66",
        "colab": {
          "base_uri": "https://localhost:8080/",
          "height": 119
        }
      },
      "source": [
        "print(\"Hello World!\")\n",
        "print(\"Hello Again\")\n",
        "print (\"I like typing this.\")\n",
        "print(\"This is fun.\")\n",
        "print(\"Yay! Printing.\")\n",
        "print(\"I'd rather you 'not'.\")\n",
        "#print('I \"said\" so not touch this.')"
      ],
      "execution_count": 0,
      "outputs": [
        {
          "output_type": "stream",
          "text": [
            "Hello World!\n",
            "Hello Again\n",
            "I like typing this.\n",
            "This is fun.\n",
            "Yay! Printing.\n",
            "I'd rather you 'not'.\n"
          ],
          "name": "stdout"
        }
      ]
    },
    {
      "cell_type": "code",
      "metadata": {
        "id": "lHjIgx8pxazW",
        "colab_type": "code",
        "outputId": "6011d2cb-2405-44af-c223-e60be5fbdb7b",
        "colab": {
          "base_uri": "https://localhost:8080/",
          "height": 51
        }
      },
      "source": [
        "# A comment, like this so that you can read later.\n",
        "# Anything after the # is ignored by python.\n",
        "print (\"I could have coded like this.\") # and the comment after this is ignored.\n",
        "\n",
        "# you can also use a comment to \"disable\" or comment out code:\n",
        "\n",
        "print(\"This will run.\")"
      ],
      "execution_count": 0,
      "outputs": [
        {
          "output_type": "stream",
          "text": [
            "I could have coded like this.\n",
            "This will run.\n"
          ],
          "name": "stdout"
        }
      ]
    },
    {
      "cell_type": "markdown",
      "metadata": {
        "id": "g70kI8zAxN8a",
        "colab_type": "text"
      },
      "source": [
        "Example 2"
      ]
    },
    {
      "cell_type": "code",
      "metadata": {
        "id": "kAHuD1KCjXlA",
        "colab_type": "code",
        "colab": {
          "base_uri": "https://localhost:8080/",
          "height": 68
        },
        "outputId": "a98bfe21-eec2-4134-ce7d-eb9abd49c195"
      },
      "source": [
        "types_of_people = 10\n",
        "x = f\"There are {types_of_people} types of people.\"\n",
        "\n",
        "binary = \"binary\"\n",
        "do_not = \"don't\"\n",
        "y = f\"Those who know {binary} and those who {do_not}.\"\n",
        "\n",
        "print(x)\n",
        "print(y)\n",
        "\n",
        "print(f\"I said: {x}\")"
      ],
      "execution_count": 3,
      "outputs": [
        {
          "output_type": "stream",
          "text": [
            "There are 10 types of people.\n",
            "Those who know binary and those who don't.\n",
            "I said: There are 10 types of people.\n"
          ],
          "name": "stdout"
        }
      ]
    }
  ]
}